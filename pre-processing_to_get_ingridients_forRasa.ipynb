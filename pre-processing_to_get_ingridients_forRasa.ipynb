{
 "cells": [
  {
   "cell_type": "code",
   "execution_count": 39,
   "metadata": {},
   "outputs": [
    {
     "name": "stderr",
     "output_type": "stream",
     "text": [
      "[nltk_data] Downloading package stopwords to /home/amanv/nltk_data...\n",
      "[nltk_data]   Package stopwords is already up-to-date!\n",
      "[nltk_data] Downloading package wordnet to /home/amanv/nltk_data...\n",
      "[nltk_data]   Package wordnet is already up-to-date!\n",
      "[nltk_data] Downloading package punkt to /home/amanv/nltk_data...\n",
      "[nltk_data]   Package punkt is already up-to-date!\n"
     ]
    }
   ],
   "source": [
    "import pandas as pd\n",
    "pd.set_option('display.max_colwidth', None)\n",
    "import nltk\n",
    "from nltk.corpus import stopwords\n",
    "nltk.download('stopwords')\n",
    "from nltk.stem import WordNetLemmatizer \n",
    "nltk.download('wordnet')\n",
    "from nltk.tokenize import word_tokenize \n",
    "from nltk.tokenize import sent_tokenize\n",
    "stop_words = set(stopwords.words('english')) \n",
    "nltk.download('punkt')\n",
    "from sklearn.feature_extraction.text import CountVectorizer\n",
    "import re , unicodedata , string"
   ]
  },
  {
   "cell_type": "code",
   "execution_count": null,
   "metadata": {},
   "outputs": [],
   "source": []
  },
  {
   "cell_type": "code",
   "execution_count": 40,
   "metadata": {},
   "outputs": [],
   "source": [
    "df = pd.read_csv('./IndianFoodDatasetCSV.csv')\n",
    "df = df.dropna()"
   ]
  },
  {
   "attachments": {},
   "cell_type": "markdown",
   "metadata": {},
   "source": [
    "#### Why do we need to remove punctuation\n",
    "The punctuation removal process will help to treat each text equally. For example, the word data and data! are treated equally after the process of removal of punctuations."
   ]
  },
  {
   "cell_type": "code",
   "execution_count": 41,
   "metadata": {},
   "outputs": [],
   "source": [
    "# Remove Punctuation\n",
    "def remove_punctuation(sample_str):\n",
    "    \"\"\"Remove punctuation from a sample string\"\"\"\n",
    "    words = word_tokenize(sample_str)\n",
    "    new_words = []\n",
    "    for word in words:\n",
    "      new_word = re.sub(r'[^\\w\\s]', '', word)\n",
    "      if new_word != '':\n",
    "        new_words.append(new_word)\n",
    "    return ' '.join(new_words)\n",
    "\n",
    "stopword_list = set(stopwords.words('english'))\n",
    "\n",
    "def remove_stopwords(sample_str):\n",
    "      \"\"\"Remove stop words from a sample string\"\"\"\n",
    "      words = word_tokenize(sample_str)\n",
    "      new_words = []\n",
    "      for word in words:\n",
    "          if word.lower() not in stopword_list:\n",
    "              new_words.append(word)\n",
    "      return ' '.join(new_words)\n",
    "\n",
    "df['TranslatedRecipeName'] = df['TranslatedRecipeName'].apply(remove_punctuation).apply(remove_stopwords)\n",
    "df['TranslatedIngredients'] = df['TranslatedIngredients'].apply(remove_punctuation).apply(remove_stopwords)\n",
    "df['TranslatedInstructions'] = df['TranslatedInstructions'].apply(remove_punctuation).apply(remove_stopwords)\n"
   ]
  },
  {
   "cell_type": "code",
   "execution_count": 42,
   "metadata": {},
   "outputs": [
    {
     "data": {
      "text/plain": [
       "0                                                                                                                                                                                                                                                                                                                                                                                                                                                                         begin making Masala Karela Recipe deseed karela slice remove skin skin nutrients Add karela pressure cooker 3 tablespoon water salt turmeric powder pressure cook three whistles Release pressure immediately open lids Keep asideHeat oil heavy bottomed pan kadhai Add cumin seeds let sizzleOnce cumin seeds sizzled add onions saute till turns golden brown colorAdd karela red chilli powder amchur powder coriander powder besan Stir combine masalas karelaDrizzle little extra oil top mix Cover pan simmer Masala Karela stirring occasionally everything comes together well Turn heatTransfer Masala Karela serving bowl serveServe Masala Karela along Panchmel Dal Phulka weekday meal family\n",
       "1                                                                                                                                                                                                                                                                                                                                                                                                                                                                                                                                                                                                                                                                                                                                              make tomato puliogere first cut tomatoes put mixer grinder puree heat oil pan oil hot add chana dal urad dal cashew let cook 10 20 seconds 10 20 seconds add cumin seeds mustard seeds green chillies dry red chillies curry leaves 30 seconds add tomato puree mix Add BC Belle Bhat powder salt mix Allow cook 7 8 minutes turn gas Take bowl add cooked rice mix Serve hot Serve tomato puliogre tomato cucumber raita papad dinner\n",
       "2                                                                                                                                                                                                                                                                                                                                                                                                                                                                  begin making Ragi Vermicelli Recipe first steam ragi vermicelli rice cooker steamer 56 minutes till cooked firmKeep aside aside till later use add drops oil mix nt stick otherPlace kadai heat add ghee oil warm add hing allow sizzle 30 seconds follow mustard seeds urad dal curry leaves allow crackleSaute 1 minute till urad dal slightly brownedThen add onions fry till translucent softNext add green chillies along par boiled carrots peas Sprinkle salt cook 23 minutes vegetables semi cookedThen add steamed ragi vermicelli toss together vegetables well combinedSwitch heat take vermicelli serving dish lemon juice Mix well serve along Coconut Chutney hot cup coffee tea wholesome breakfast\n",
       "3       begin making Gongura Chicken Curry Recipe first prep ingredients keep asideIn small pan dry roast methi seeds coriander seeds fennel seeds red chillies 3 4 minutes medium heat notice seeds crackling done turn heat allow cool bit blend smooth powderHeat oil pressure cooker medium heat add chopped onions ginger garlic green chillies saute onions lightly browned tenderAdd tomatoes saute tomatoes become soft mushy done add chicken garam masala turmeric powder Add 14 cup water pressure cook chicken 3 4 whistles turn heatOnce done allow pressure release naturallyMake sure stems pick gongura leaves Wash chop gongura leaves keep asideIn another pan add oil along garlic saute chopped gongura leaves along little salt ground masala gongura leaves wilt almost instantly Saute gongura masala 3 4 minutes becomes like mushy pasteOnce done add cooked chicken curry Gongura masala saute high heat another 2 minutes turn heatCheck salt spices adjust according taste Transfer Gongura Chicken Curry serving bowl serve hotServe Gongura Chicken Ghee Rice Recipe Neychoru Tomato Onion Cucumber Raita Recipe Semiya Payasam delicious weekend lunch\n",
       "4                                                                                                                                                                                                                                                                                                                                                                                                                                                                                                                                                                                                                                                                                        make Andhra Style Alam Pachadi first heat oil pan Add lentils cook till turns brown add dry red chillies coriander seeds onion ginger cook till onion becomes soft onion cooked add tomatoes cook till tomatoes become soft Turn gas allow cool cools put mixer grinder make paste tempering heat oil small pan Add mustard seeds let cook 10 seconds add curry leaves asafoetida let cook 10 seconds Add chutney mix Serve Andhra Style Alam Pachadi Ghee Roast Dosa Kirai Sambar breakfast\n",
       "                                                                                                                                                                                                                                                                                                                                                                                                                                                                                                                                                                                            ...                                                                                                                                                                                                                                                                                                                                                                                                                                                                                                                                                                                      \n",
       "6866                                                                                                                                                                                                                                                                                                                                                                                                                                                                                                                                    गअन मशरम जकट रसप बनन क लए सबस पहल मशरम क ध ल कट ल और अलग स रख ल अब हम जकट क पसट बनएग एक कढ़ई म तल गरम कर इसम पयज डल और उनक नरम हन तक पक ल पयज क नरम हन क बद इसम धनय क बज सख लल मरच लनग डल और 4 स 5 मनट क लए पक ल 4 स 5 मनट क बद इसम नरयल डल और नरयल क हलक भर हन तक पक ल गस बद कर द इसम इमल हलद पउडर डल मल ल और ठड हन द इसम 1 कप पन डल और पस ल अलग स रख द अब एक कड़ह म तल गरम कर इसम पयज डल और पयज क नरम हन तक पक ल हन क बद इसम टमटर डल और उनक नरम हन तक पक ल अब इसम मशरम डल और 15 स 20 मनट क लए पकन द अब इसम पस हई गरव क मसल डल मलए और 5 स 8 मनट तक पकन द नमक डल और हर धनय स गरनश कर गअन मशरम जकट रसप क लचछ परठ और बद रयत क सथ दन क खन क लए परस\n",
       "6867                                                                                                                                                                                                                                                                                                                           शकरकद और मथ क परठ रसप बनन क लए सबस पहल आल क परशर ककर म परयग अनसर पन क सथ डल और 4 सट आन तक पक ल परशर अपन आप नकलन दककर खल और आल क ठड हन द आल क ठड हन क बद छल और मश कर ल मथ क धकर सफ़ कर ल मथ क कट और अलग स रख द अब एक बउल म गह क आट नमक तल डल और मल ल थड़ थड़ पन डल और आट क गद ल ढक और अलग स रख द एक कढ़ई म सरस क तल गरम कर इसम जर डल और तड़कन द अब इसम अदरक डल और 2 मनट क लए पक लअब इसम मथ डल और मथ क नरम हन तक पक ल मथ क नरम हन क बद आल हर मरच हलद पउडर लल मरच पउडर धनय पउडर नमक डल और 2 मनट क लए पक लगस बद कर और ठड हन क लए अलग स रख द अब आट क थड़ टकड़ ल और उस गल बल ल बच म मसल क मशरण रख और चर तरफ स बद कर ल अब इस सख आट स कट कर ल फर स बल ल मट मट ह बल वरन मसल बहर आ सकत ह ऐस सर परठ बन लएक तव गरम कर इस पर परठ डल और ऊपर स घ लग ल दन तरफ स सनहर भर हन तक पकए और गस बद कर ल शकरकद और मथ क परठ रसप क बद रयत और मरच क अचर क सथ सबह क नशत य रत क खन क लए परस\n",
       "6868                                                                                                                                                                                                                                                                                                                                                                              begin making Ullikadala Pulusu Recipe Spring Onion Curry pan dry roast coriander seeds mustard seeds cumin seeds fenugreek seeds separately grind fine powder Keep aside roasted till aromaticIn pan add oil hot medium low heat temper mustard seeds splutter add cumin seeds red chillies hing add spring onions white partgreen part cut small pieces Fry turn soft reduce size low heatAdd 2 cups water bring boil Add salt turmeric tamarind puree let boil 2 minutes bowl mix gramflour tablespoon prepared powder little water without lumps add boiling mixture Let boil another 2 3 minutes serve Serve Ullikadala Pulusu Recipe Spring Onion Curry winter day serve hot steamed rice ghee along Andhra Gongura Pachadi Recipe Andhra Style Kakarakaya Vepudu Recipe Bitter Gourd Stir Fry\n",
       "6869                                                                                                                                                                                                                                                                                                                                                                                                                                                                                           begin making Kashmiri Kokur Yakhni recipe wash chicken nicely drain waterHeat mustard oil pressure cooker add chicken along salt fennel powder crushed big cardamom asafoetida cinnamon bay leaf fry 5 minutes full flamePut 12 glass water stir pressurecook upto 12 whistles onlyHeat ghee wokkadai add cumin cloves itKeep heat low add wellwhisked curd turn flames high Keep stirring high flames till starts boil Stir continuously curd nt curdleWhile curd boiling add chicken along spices left pure ghee cook another 5 8 minutesOnce chicken nicely cooked turn gas add lot crushed dry mint topServe Kashmiri Kokur Yakhni along Steamed rice Kachumber Salad weekday meal\n",
       "6870                                                                                                                                                                                                                                                                                                                                                                                                                                                                                                नवरग दल रसप बनन क लए सबस पहल सर दल क पन म रत भर क लए सख ल मग दल और तअर दल क न भगए अब एक परशर ककर म सर दल डल और 3 स 4 सट आन तक पक लपरशर अपन आप नकलन द ककर खल दल क मश कर और अलग स रख द अब एक कढ़ई म तल य घ गरम कर इसम दलचन जर डल और जर क तड़कन द अब इसम पयज डल और हलक भर हन तक पक ल अब इसम अदरक लहसन क पसट डल और 3 स 4 मनट क लए पक ल 3 स 4 मनट क बद इसम टमटर हर मरच डल और टमटर क आध पकन तक पक ल टमटर क आध पकन क बद इसम धनय पउडर लल मरच पउडर गरम मसल पउडर डल और 3 स 4 मनट क लए पक ल अब इसम पक हई दल सवद अनसर नमक परयग अनसर पन डल और 10 मनट क लए पक ल 10 मनट क बद इसम कसर मथ डल और उबल आन द उबल आन क बद गस बद कर और अदरक स गरनश कर परस नवरग दल क भड मसल और तव परठ क सथ दन क खन क लए परस\n",
       "Name: TranslatedInstructions, Length: 6865, dtype: object"
      ]
     },
     "execution_count": 42,
     "metadata": {},
     "output_type": "execute_result"
    }
   ],
   "source": [
    "df['TranslatedInstructions']"
   ]
  },
  {
   "attachments": {},
   "cell_type": "markdown",
   "metadata": {},
   "source": [
    "#### Named Entity Recognition"
   ]
  },
  {
   "cell_type": "code",
   "execution_count": 43,
   "metadata": {},
   "outputs": [
    {
     "name": "stderr",
     "output_type": "stream",
     "text": [
      "[nltk_data] Downloading package brown to /home/amanv/nltk_data...\n",
      "[nltk_data]   Package brown is already up-to-date!\n",
      "[nltk_data] Downloading package punkt to /home/amanv/nltk_data...\n",
      "[nltk_data]   Package punkt is already up-to-date!\n",
      "[nltk_data] Downloading package averaged_perceptron_tagger to\n",
      "[nltk_data]     /home/amanv/nltk_data...\n",
      "[nltk_data]   Package averaged_perceptron_tagger is already up-to-\n",
      "[nltk_data]       date!\n",
      "[nltk_data] Downloading package wordnet to /home/amanv/nltk_data...\n",
      "[nltk_data]   Package wordnet is already up-to-date!\n"
     ]
    }
   ],
   "source": [
    "from textblob import TextBlob\n",
    "import nltk\n",
    "nltk.download('brown')\n",
    "nltk.download('punkt')\n",
    "nltk.download('averaged_perceptron_tagger')\n",
    "nltk.download('wordnet')\n",
    "from nltk import word_tokenize, pos_tag\n",
    "from nltk.corpus import wordnet\n",
    "\n",
    "lemmatizer = nltk.WordNetLemmatizer()"
   ]
  },
  {
   "cell_type": "code",
   "execution_count": 44,
   "metadata": {},
   "outputs": [
    {
     "name": "stderr",
     "output_type": "stream",
     "text": [
      "/tmp/ipykernel_28025/709383043.py:32: SettingWithCopyWarning: \n",
      "A value is trying to be set on a copy of a slice from a DataFrame\n",
      "\n",
      "See the caveats in the documentation: https://pandas.pydata.org/pandas-docs/stable/user_guide/indexing.html#returning-a-view-versus-a-copy\n",
      "  df['Noun_keywords_' + col][i] = potential_searches\n",
      "/tmp/ipykernel_28025/709383043.py:32: SettingWithCopyWarning: \n",
      "A value is trying to be set on a copy of a slice from a DataFrame\n",
      "\n",
      "See the caveats in the documentation: https://pandas.pydata.org/pandas-docs/stable/user_guide/indexing.html#returning-a-view-versus-a-copy\n",
      "  df['Noun_keywords_' + col][i] = potential_searches\n"
     ]
    }
   ],
   "source": [
    "import numpy as np\n",
    "def get_word_postag(word):\n",
    "    if pos_tag([word])[0][1].startswith('J'):\n",
    "        return wordnet.ADJ\n",
    "    if pos_tag([word])[0][1].startswith('V'):\n",
    "        return wordnet.VERB\n",
    "    if pos_tag([word])[0][1].startswith('N'):\n",
    "        return wordnet.NOUN\n",
    "    else:\n",
    "        return wordnet.NOUN\n",
    "    \n",
    "def normalise(word):\n",
    "    \"\"\"Normalises words to lowercase and stems and lemmatizes it.\"\"\"\n",
    "    word = word.lower()\n",
    "    postag = get_word_postag(word)\n",
    "    word = lemmatizer.lemmatize(word,postag)\n",
    "    return word\n",
    "\n",
    "#Extract noun\n",
    "cols = ['TranslatedIngredients','TranslatedInstructions']\n",
    "\n",
    "for col in cols:\n",
    "    df['Noun_keywords_' + col] = np.nan\n",
    "    for i in df.index:\n",
    "      try:\n",
    "        blob = TextBlob(df[col][i])  \n",
    "        potential_searches = []\n",
    "        if (df[col][i] != \"\"):\n",
    "          for nouns in blob.noun_phrases:\n",
    "              potential_searches.append(normalise(nouns))\n",
    "\n",
    "          df['Noun_keywords_' + col][i] = potential_searches\n",
    "        else:\n",
    "          # potential_searches = []\n",
    "          df['Noun_keywords_' + col][i] = potential_searches\n",
    "      except:\n",
    "        continue"
   ]
  },
  {
   "attachments": {},
   "cell_type": "markdown",
   "metadata": {},
   "source": [
    "#### To extract list of ingridients for fine tuning rasa"
   ]
  },
  {
   "cell_type": "code",
   "execution_count": 45,
   "metadata": {},
   "outputs": [],
   "source": [
    "\n",
    "list_of_list = list(df['Noun_keywords_TranslatedIngredients'])\n"
   ]
  },
  {
   "cell_type": "code",
   "execution_count": 46,
   "metadata": {},
   "outputs": [
    {
     "name": "stdout",
     "output_type": "stream",
     "text": [
      "226001\n"
     ]
    }
   ],
   "source": [
    "strings = []\n",
    "\n",
    "for sublist in list_of_list:\n",
    "    # Iterate through each string in the sublist\n",
    "    for string in sublist:\n",
    "        \n",
    "        list_of_str=string.split(\" \")\n",
    "        # Split the string on the comma and add the resulting strings to the list\n",
    "        strings.extend(list_of_str)\n",
    "\n",
    "\n",
    "# Print the final list of strings\n",
    "print(len(strings))\n",
    "\n",
    "\n"
   ]
  },
  {
   "attachments": {},
   "cell_type": "markdown",
   "metadata": {},
   "source": [
    "#### Stored in a file named ingredients.txt"
   ]
  },
  {
   "cell_type": "code",
   "execution_count": 47,
   "metadata": {},
   "outputs": [],
   "source": [
    "with open('ingredients.txt', 'w') as file:\n",
    "    # Iterate through each string in the list and write it to a new line in the file\n",
    "    for string in strings:\n",
    "        file.write(\"        - \"+string + '\\n')"
   ]
  }
 ],
 "metadata": {
  "kernelspec": {
   "display_name": "Python 3",
   "language": "python",
   "name": "python3"
  },
  "language_info": {
   "codemirror_mode": {
    "name": "ipython",
    "version": 3
   },
   "file_extension": ".py",
   "mimetype": "text/x-python",
   "name": "python",
   "nbconvert_exporter": "python",
   "pygments_lexer": "ipython3",
   "version": "3.10.6"
  },
  "orig_nbformat": 4,
  "vscode": {
   "interpreter": {
    "hash": "805b67c05c86a4c11abd16182884495f2a298bf0957aab63b4b002765f8d49ae"
   }
  }
 },
 "nbformat": 4,
 "nbformat_minor": 2
}
