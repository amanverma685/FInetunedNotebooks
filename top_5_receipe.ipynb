{
 "cells": [
  {
   "cell_type": "code",
   "execution_count": 2,
   "metadata": {},
   "outputs": [],
   "source": [
    "import pandas as pd\n",
    "from sklearn.feature_extraction.text import CountVectorizer\n",
    "from sklearn.metrics.pairwise import cosine_similarity\n",
    "pd.set_option('display.max_rows', None)\n",
    "pd.set_option('display.max_colwidth', None)\n",
    "from sklearn.feature_extraction.text import TfidfVectorizer\n",
    "\n"
   ]
  },
  {
   "cell_type": "code",
   "execution_count": 3,
   "metadata": {},
   "outputs": [],
   "source": [
    "df_preprocessed = pd.read_csv('./preprocessedDataV1.csv')\n",
    "\n",
    "df = df_preprocessed[['TranslatedIngredients', 'TranslatedInstructions']].copy()\n",
    "\n",
    "\n",
    "df_recipe_name = df_preprocessed[['TranslatedRecipeName', 'finalResult']].copy()\n"
   ]
  },
  {
   "cell_type": "code",
   "execution_count": 4,
   "metadata": {},
   "outputs": [],
   "source": [
    "\n",
    "# Preprocess the data\n",
    "df['TranslatedIngredients'] = df['TranslatedIngredients'].apply(lambda x: ' '.join(str(x).lower().split()))\n",
    "df['TranslatedInstructions'] = df['TranslatedInstructions'].apply(lambda x: ' '.join(x.lower().split()))\n",
    "\n",
    "# Convert each recipe's ingredients and instructions into a single string\n",
    "df['text'] = df['TranslatedIngredients'] + ' ' + df['TranslatedInstructions']\n",
    "\n",
    "# Tokenize each string\n",
    "vectorizer = CountVectorizer(stop_words='english')\n",
    "X = vectorizer.fit_transform(df['text'])\n",
    "\n",
    "# Compute the cosine similarity between the new list of ingredients and each recipe's list of ingredients\n",
    "new_ingredients = ['potato']\n",
    "\n",
    "new_text = ' '.join(new_ingredients)\n",
    "new_X = vectorizer.transform([new_text])\n",
    "similarity_scores = cosine_similarity(new_X, X)[0]\n",
    "\n",
    "# Rank the recipes based on their similarity score and select the top 5\n",
    "top_5_indices = similarity_scores.argsort()[::-1][:5]\n",
    "\n",
    "top_5_recipes = df.iloc[top_5_indices]['TranslatedInstructions']"
   ]
  },
  {
   "cell_type": "code",
   "execution_count": 17,
   "metadata": {},
   "outputs": [
    {
     "data": {
      "text/html": [
       "<div>\n",
       "<style scoped>\n",
       "    .dataframe tbody tr th:only-of-type {\n",
       "        vertical-align: middle;\n",
       "    }\n",
       "\n",
       "    .dataframe tbody tr th {\n",
       "        vertical-align: top;\n",
       "    }\n",
       "\n",
       "    .dataframe thead th {\n",
       "        text-align: right;\n",
       "    }\n",
       "</style>\n",
       "<table border=\"1\" class=\"dataframe\">\n",
       "  <thead>\n",
       "    <tr style=\"text-align: right;\">\n",
       "      <th></th>\n",
       "      <th>TranslatedIngredients</th>\n",
       "      <th>TranslatedInstructions</th>\n",
       "      <th>text</th>\n",
       "    </tr>\n",
       "  </thead>\n",
       "  <tbody>\n",
       "    <tr>\n",
       "      <th>39</th>\n",
       "      <td>1 eggplant, 2 inch ginger - peel and tighten, 1 onion - finely chopped, 1 tomato - chopped, 2 green chillies - finely chopped, 1 teaspoon turmeric powder, 1 teaspoon garam masala powder, 1 teaspoon coriander powder , 1 tablespoon butter, 1 teaspoon red chili powder, salt - as per taste, 1 tablespoon oil, 2 sprigs of coriander - finely chopped (for garnish)</td>\n",
       "      <td>to start the brinjal bharta, first turn on the gas. place the brinjals on the heat and roast them all the way around. after 10 minutes you will see that the brinjal skin has started coming out. bake the eggplants and keep them aside till they become soft. after cooling, take out the skin of the brinjals and mash them with the help of a fork. keep it aside. now heat a pan. add cumin seeds and let it cook for 10 seconds. after 10 seconds, add ginger, onion and cook till the onion becomes soft. now add tomato, turmeric powder, green chilli, coriander powder, garam masala powder and red chili powder. mix all and let it cook for 3 minutes to 4 minutes. now add eggplant, butter and salt. mix, slow down the heat and let it cook for 10 minutes. turn off the gas and garnish with green coriander. serve the brinjal bharta with panchamel dal, spinach raita and phulka for dinner.</td>\n",
       "      <td>1 eggplant, 2 inch ginger - peel and tighten, 1 onion - finely chopped, 1 tomato - chopped, 2 green chillies - finely chopped, 1 teaspoon turmeric powder, 1 teaspoon garam masala powder, 1 teaspoon coriander powder , 1 tablespoon butter, 1 teaspoon red chili powder, salt - as per taste, 1 tablespoon oil, 2 sprigs of coriander - finely chopped (for garnish) to start the brinjal bharta, first turn on the gas. place the brinjals on the heat and roast them all the way around. after 10 minutes you will see that the brinjal skin has started coming out. bake the eggplants and keep them aside till they become soft. after cooling, take out the skin of the brinjals and mash them with the help of a fork. keep it aside. now heat a pan. add cumin seeds and let it cook for 10 seconds. after 10 seconds, add ginger, onion and cook till the onion becomes soft. now add tomato, turmeric powder, green chilli, coriander powder, garam masala powder and red chili powder. mix all and let it cook for 3 minutes to 4 minutes. now add eggplant, butter and salt. mix, slow down the heat and let it cook for 10 minutes. turn off the gas and garnish with green coriander. serve the brinjal bharta with panchamel dal, spinach raita and phulka for dinner.</td>\n",
       "    </tr>\n",
       "    <tr>\n",
       "      <th>208</th>\n",
       "      <td>1 cup bajra flour ( pearl millet),1/2 cup whole wheat flour,1/2 teaspoon turmeric powder (haldi),1/2 teaspoon black pepper powder,1 inch ginger - grated,1 green chilli - finely chopped,4 sprig coriander (dhania) leaves - finely chopped,sunflower oil - as required</td>\n",
       "      <td>to begin making the gehu bajra thepla recipe, combine the bajra flour, whole wheat flour, turmeric powder, black pepper powder, ginger, green chilli, and coriander leaves, in a large mixing bowl. add little water at a time and knead to make a smooth and firm dough. drizzle some oil on the top and knead for a few more minutes until smooth. cover the thepla dough and allow it to rest for half an hour.preheat the iron skillet on medium heat. divide the dough into 6 to 8 portions.roll the thepla portions into balls; flatten them with the palm of your hand. toss the thepla dough on flour and roll them out into thin circles to approximately 6 inches in diameter.as you roll them out, you can keep tossing the dough in dry flour to prevent sticking when rolling them out.continue the same process of rolling the thepla dough out with the remaining balls. it is ideal when you can roll out the all portions of dough before you can start cooking them. method of cooking the gehu bajra theplawith skillet on high heat, place the rolled out gehu bajra thepla on the skillet. after a few seconds you will notice small air pockets popping out.at this point flip the gehu bajra thepla and smear about half a teaspoon of oil and using a flat spatula and do a light pressing and turning motion to cook to the thepla.flip to the other side and press and turn in a similar way. you will notice brown spots around the cooked gehu bajra thepla. remove from heat and place the thepla on a flat plate. continue the similar process with the remaining rolled out portions and stack the cooked gehu bajra thepla one above the other. stacking them maintains softness and prevents the thepla’s from drying out, preserving moisture.serve the gehu bajra thepla with bangain bharta and jaggery for dinner.</td>\n",
       "      <td>1 cup bajra flour ( pearl millet),1/2 cup whole wheat flour,1/2 teaspoon turmeric powder (haldi),1/2 teaspoon black pepper powder,1 inch ginger - grated,1 green chilli - finely chopped,4 sprig coriander (dhania) leaves - finely chopped,sunflower oil - as required to begin making the gehu bajra thepla recipe, combine the bajra flour, whole wheat flour, turmeric powder, black pepper powder, ginger, green chilli, and coriander leaves, in a large mixing bowl. add little water at a time and knead to make a smooth and firm dough. drizzle some oil on the top and knead for a few more minutes until smooth. cover the thepla dough and allow it to rest for half an hour.preheat the iron skillet on medium heat. divide the dough into 6 to 8 portions.roll the thepla portions into balls; flatten them with the palm of your hand. toss the thepla dough on flour and roll them out into thin circles to approximately 6 inches in diameter.as you roll them out, you can keep tossing the dough in dry flour to prevent sticking when rolling them out.continue the same process of rolling the thepla dough out with the remaining balls. it is ideal when you can roll out the all portions of dough before you can start cooking them. method of cooking the gehu bajra theplawith skillet on high heat, place the rolled out gehu bajra thepla on the skillet. after a few seconds you will notice small air pockets popping out.at this point flip the gehu bajra thepla and smear about half a teaspoon of oil and using a flat spatula and do a light pressing and turning motion to cook to the thepla.flip to the other side and press and turn in a similar way. you will notice brown spots around the cooked gehu bajra thepla. remove from heat and place the thepla on a flat plate. continue the similar process with the remaining rolled out portions and stack the cooked gehu bajra thepla one above the other. stacking them maintains softness and prevents the thepla’s from drying out, preserving moisture.serve the gehu bajra thepla with bangain bharta and jaggery for dinner.</td>\n",
       "    </tr>\n",
       "    <tr>\n",
       "      <th>540</th>\n",
       "      <td>4 potatoes (aloo) - peeled,1 teaspoon mustard seeds,1 sprig curry leaves,3 dry red chillies - seeds removed and torn,1 onion - chopped,1 green chilli - chopped,salt - to taste</td>\n",
       "      <td>to begin making the odisha style aloo bharta recipe, pressure cook the potatoes with water and salt for about 4 whistles until it is done.allow the pressure to release naturally and mash it using a potato masher.heat a kadai with oil, add mustard seeds and allow it to splutter. add onions and saute until they turn translucent.now add dry red chillies and green chillies and stir for few seconds. add the mashed potato and sprinkle salt and mix well. once done switch off the heat and serve the aloo bharta hot. serve the odisha style aloo bharta recipe along with puri recipe (puffed fried indian bread) and sagu by the side to enjoy your morning breakfast.</td>\n",
       "      <td>4 potatoes (aloo) - peeled,1 teaspoon mustard seeds,1 sprig curry leaves,3 dry red chillies - seeds removed and torn,1 onion - chopped,1 green chilli - chopped,salt - to taste to begin making the odisha style aloo bharta recipe, pressure cook the potatoes with water and salt for about 4 whistles until it is done.allow the pressure to release naturally and mash it using a potato masher.heat a kadai with oil, add mustard seeds and allow it to splutter. add onions and saute until they turn translucent.now add dry red chillies and green chillies and stir for few seconds. add the mashed potato and sprinkle salt and mix well. once done switch off the heat and serve the aloo bharta hot. serve the odisha style aloo bharta recipe along with puri recipe (puffed fried indian bread) and sagu by the side to enjoy your morning breakfast.</td>\n",
       "    </tr>\n",
       "    <tr>\n",
       "      <th>622</th>\n",
       "      <td>1 cup black urad dal (split),1 tablespoon rajma (large kidney beans),4 tomatoes,1 inch ginger,1 tablespoon ghee,1 teaspoon cumin seeds (jeera),1 teaspoon kashmiri dry red chillies,1 tablespoon coriander powder (dhania),1/2 teaspoon garam masala powder</td>\n",
       "      <td>to begin making maa ki dal recipe, first wash the dal and rajma well about 2-3 times and then soak them together in water for at least 8 hours or overnight.the longer you soak the better it is for the texture of the dal. traditionally, the dals are soaked for 24 hours, changing water every 8 hours.when you are ready to prepare the dal, after sufficient soaking time, take a heavy bottom pan (or a slow cooker) and bring 5 cups of water with a dash of salt, to boil in it.add the pre soaked dal and rajma to it and let it simmer till it cooks and turns a little soft. this could take anywhere between 2-3 hours as the dal gets it flavours from the slow cooking process. however, if you are in a hurry you can use the pressure cooker to hasten the process.next, add the tomato and ginger to the dal. once the dal is cooked, mash the dal and tomatoes a little bit. take care not to make it mushy, but just achieve a thick consistency. cook the dal for more 3 to 4 minutes.in a small pan, warm some ghee, add the cumin seeds and sauté till they turn slightly brown. add dry red chillies, coriander powder, garam masala powder and roast on a low heat for 1 minute taking care not to burn them.pour this tempering over the the dal and bring it to a boil. simmer it for another 10-15 minutes and serve hot.maa ki dal can be served with baingan ka bharta, boondi raita and phulka for a comforting punjabi meal.</td>\n",
       "      <td>1 cup black urad dal (split),1 tablespoon rajma (large kidney beans),4 tomatoes,1 inch ginger,1 tablespoon ghee,1 teaspoon cumin seeds (jeera),1 teaspoon kashmiri dry red chillies,1 tablespoon coriander powder (dhania),1/2 teaspoon garam masala powder to begin making maa ki dal recipe, first wash the dal and rajma well about 2-3 times and then soak them together in water for at least 8 hours or overnight.the longer you soak the better it is for the texture of the dal. traditionally, the dals are soaked for 24 hours, changing water every 8 hours.when you are ready to prepare the dal, after sufficient soaking time, take a heavy bottom pan (or a slow cooker) and bring 5 cups of water with a dash of salt, to boil in it.add the pre soaked dal and rajma to it and let it simmer till it cooks and turns a little soft. this could take anywhere between 2-3 hours as the dal gets it flavours from the slow cooking process. however, if you are in a hurry you can use the pressure cooker to hasten the process.next, add the tomato and ginger to the dal. once the dal is cooked, mash the dal and tomatoes a little bit. take care not to make it mushy, but just achieve a thick consistency. cook the dal for more 3 to 4 minutes.in a small pan, warm some ghee, add the cumin seeds and sauté till they turn slightly brown. add dry red chillies, coriander powder, garam masala powder and roast on a low heat for 1 minute taking care not to burn them.pour this tempering over the the dal and bring it to a boil. simmer it for another 10-15 minutes and serve hot.maa ki dal can be served with baingan ka bharta, boondi raita and phulka for a comforting punjabi meal.</td>\n",
       "    </tr>\n",
       "    <tr>\n",
       "      <th>822</th>\n",
       "      <td>1 brinjal (baingan / eggplant),2 onions - finely chopped,2 green chillies - chopped,1/2 cup coriander (dhania) leaves - finely chopped,1 tablespoon tamarind paste,2 tablespoon fresh coconut - grated,1 tamarind - marble sized ball,salt - to taste,1 tablespoon sunflower oil</td>\n",
       "      <td>to begin making the goan style brinjal bharta recipe, clean the brinjal and make 4 to 5 slits keeping the brinjal intact.heat oil in a heavy bottomed pan. switch off the pan and apply this oil to the brinjal. once done, put the brinjal in the same pan and cover it with a lid.after 2 minutes, open the lid and turn the brinjal carefully to the other side. once it is slightly cooked from the other side, carefully insert the marble sized tamarind ball through one slit and again cover the lid.keep on turning the brinjal till it gets cooked on all sides. this might take 25 to 35 minutes.once cooked, it will turn brown and will release water. let the brinjal remain covered until it cools down.after cooling, peel the brinjal and discard the peel. mash the pulp and mix it with finely chopped onions and green chillies in a bowl.add grated coconut, tamarind paste, salt to taste and mix everything well. once done, add finely chopped coriander leaves, mix well and it is ready to be served.serve goan brinjal bharta recipe along with steamed rice, goan moolyacho ross and amlechi uddamethi recipe for a comforting and delicious lunch.</td>\n",
       "      <td>1 brinjal (baingan / eggplant),2 onions - finely chopped,2 green chillies - chopped,1/2 cup coriander (dhania) leaves - finely chopped,1 tablespoon tamarind paste,2 tablespoon fresh coconut - grated,1 tamarind - marble sized ball,salt - to taste,1 tablespoon sunflower oil to begin making the goan style brinjal bharta recipe, clean the brinjal and make 4 to 5 slits keeping the brinjal intact.heat oil in a heavy bottomed pan. switch off the pan and apply this oil to the brinjal. once done, put the brinjal in the same pan and cover it with a lid.after 2 minutes, open the lid and turn the brinjal carefully to the other side. once it is slightly cooked from the other side, carefully insert the marble sized tamarind ball through one slit and again cover the lid.keep on turning the brinjal till it gets cooked on all sides. this might take 25 to 35 minutes.once cooked, it will turn brown and will release water. let the brinjal remain covered until it cools down.after cooling, peel the brinjal and discard the peel. mash the pulp and mix it with finely chopped onions and green chillies in a bowl.add grated coconut, tamarind paste, salt to taste and mix everything well. once done, add finely chopped coriander leaves, mix well and it is ready to be served.serve goan brinjal bharta recipe along with steamed rice, goan moolyacho ross and amlechi uddamethi recipe for a comforting and delicious lunch.</td>\n",
       "    </tr>\n",
       "  </tbody>\n",
       "</table>\n",
       "</div>"
      ],
      "text/plain": [
       "                                                                                                                                                                                                                                                                                                                                                      TranslatedIngredients  \\\n",
       "39   1 eggplant, 2 inch ginger - peel and tighten, 1 onion - finely chopped, 1 tomato - chopped, 2 green chillies - finely chopped, 1 teaspoon turmeric powder, 1 teaspoon garam masala powder, 1 teaspoon coriander powder , 1 tablespoon butter, 1 teaspoon red chili powder, salt - as per taste, 1 tablespoon oil, 2 sprigs of coriander - finely chopped (for garnish)   \n",
       "208                                                                                                 1 cup bajra flour ( pearl millet),1/2 cup whole wheat flour,1/2 teaspoon turmeric powder (haldi),1/2 teaspoon black pepper powder,1 inch ginger - grated,1 green chilli - finely chopped,4 sprig coriander (dhania) leaves - finely chopped,sunflower oil - as required   \n",
       "540                                                                                                                                                                                         4 potatoes (aloo) - peeled,1 teaspoon mustard seeds,1 sprig curry leaves,3 dry red chillies - seeds removed and torn,1 onion - chopped,1 green chilli - chopped,salt - to taste   \n",
       "622                                                                                                             1 cup black urad dal (split),1 tablespoon rajma (large kidney beans),4 tomatoes,1 inch ginger,1 tablespoon ghee,1 teaspoon cumin seeds (jeera),1 teaspoon kashmiri dry red chillies,1 tablespoon coriander powder (dhania),1/2 teaspoon garam masala powder   \n",
       "822                                                                                        1 brinjal (baingan / eggplant),2 onions - finely chopped,2 green chillies - chopped,1/2 cup coriander (dhania) leaves - finely chopped,1 tablespoon tamarind paste,2 tablespoon fresh coconut - grated,1 tamarind - marble sized ball,salt - to taste,1 tablespoon sunflower oil   \n",
       "\n",
       "                                                                                                                                                                                                                                                                                                                                                                                                                                                                                                                                                                                                                                                                                                                                                                                                                                                                                                                                                                                                                                                                                                                                                                                                                                                                                                                                                                                                                                                                                                                                                                                                                                                                                                                                                                                                                                      TranslatedInstructions  \\\n",
       "39                                                                                                                                                                                                                                                                                                                                                                                                                                                                                                                                                                                                                                                                                                                                                                                                                                                                                                                                           to start the brinjal bharta, first turn on the gas. place the brinjals on the heat and roast them all the way around. after 10 minutes you will see that the brinjal skin has started coming out. bake the eggplants and keep them aside till they become soft. after cooling, take out the skin of the brinjals and mash them with the help of a fork. keep it aside. now heat a pan. add cumin seeds and let it cook for 10 seconds. after 10 seconds, add ginger, onion and cook till the onion becomes soft. now add tomato, turmeric powder, green chilli, coriander powder, garam masala powder and red chili powder. mix all and let it cook for 3 minutes to 4 minutes. now add eggplant, butter and salt. mix, slow down the heat and let it cook for 10 minutes. turn off the gas and garnish with green coriander. serve the brinjal bharta with panchamel dal, spinach raita and phulka for dinner.   \n",
       "208  to begin making the gehu bajra thepla recipe, combine the bajra flour, whole wheat flour, turmeric powder, black pepper powder, ginger, green chilli, and coriander leaves, in a large mixing bowl. add little water at a time and knead to make a smooth and firm dough. drizzle some oil on the top and knead for a few more minutes until smooth. cover the thepla dough and allow it to rest for half an hour.preheat the iron skillet on medium heat. divide the dough into 6 to 8 portions.roll the thepla portions into balls; flatten them with the palm of your hand. toss the thepla dough on flour and roll them out into thin circles to approximately 6 inches in diameter.as you roll them out, you can keep tossing the dough in dry flour to prevent sticking when rolling them out.continue the same process of rolling the thepla dough out with the remaining balls. it is ideal when you can roll out the all portions of dough before you can start cooking them. method of cooking the gehu bajra theplawith skillet on high heat, place the rolled out gehu bajra thepla on the skillet. after a few seconds you will notice small air pockets popping out.at this point flip the gehu bajra thepla and smear about half a teaspoon of oil and using a flat spatula and do a light pressing and turning motion to cook to the thepla.flip to the other side and press and turn in a similar way. you will notice brown spots around the cooked gehu bajra thepla. remove from heat and place the thepla on a flat plate. continue the similar process with the remaining rolled out portions and stack the cooked gehu bajra thepla one above the other. stacking them maintains softness and prevents the thepla’s from drying out, preserving moisture.serve the gehu bajra thepla with bangain bharta and jaggery for dinner.   \n",
       "540                                                                                                                                                                                                                                                                                                                                                                                                                                                                                                                                                                                                                                                                                                                                                                                                                                                                                                                                                                                                                                                                                                                                                                      to begin making the odisha style aloo bharta recipe, pressure cook the potatoes with water and salt for about 4 whistles until it is done.allow the pressure to release naturally and mash it using a potato masher.heat a kadai with oil, add mustard seeds and allow it to splutter. add onions and saute until they turn translucent.now add dry red chillies and green chillies and stir for few seconds. add the mashed potato and sprinkle salt and mix well. once done switch off the heat and serve the aloo bharta hot. serve the odisha style aloo bharta recipe along with puri recipe (puffed fried indian bread) and sagu by the side to enjoy your morning breakfast.   \n",
       "622                                                                                                                                                                                                                                                                                                                                                                                             to begin making maa ki dal recipe, first wash the dal and rajma well about 2-3 times and then soak them together in water for at least 8 hours or overnight.the longer you soak the better it is for the texture of the dal. traditionally, the dals are soaked for 24 hours, changing water every 8 hours.when you are ready to prepare the dal, after sufficient soaking time, take a heavy bottom pan (or a slow cooker) and bring 5 cups of water with a dash of salt, to boil in it.add the pre soaked dal and rajma to it and let it simmer till it cooks and turns a little soft. this could take anywhere between 2-3 hours as the dal gets it flavours from the slow cooking process. however, if you are in a hurry you can use the pressure cooker to hasten the process.next, add the tomato and ginger to the dal. once the dal is cooked, mash the dal and tomatoes a little bit. take care not to make it mushy, but just achieve a thick consistency. cook the dal for more 3 to 4 minutes.in a small pan, warm some ghee, add the cumin seeds and sauté till they turn slightly brown. add dry red chillies, coriander powder, garam masala powder and roast on a low heat for 1 minute taking care not to burn them.pour this tempering over the the dal and bring it to a boil. simmer it for another 10-15 minutes and serve hot.maa ki dal can be served with baingan ka bharta, boondi raita and phulka for a comforting punjabi meal.   \n",
       "822                                                                                                                                                                                                                                                                                                                                                                                                                                                                                                                                                                                                                                                                          to begin making the goan style brinjal bharta recipe, clean the brinjal and make 4 to 5 slits keeping the brinjal intact.heat oil in a heavy bottomed pan. switch off the pan and apply this oil to the brinjal. once done, put the brinjal in the same pan and cover it with a lid.after 2 minutes, open the lid and turn the brinjal carefully to the other side. once it is slightly cooked from the other side, carefully insert the marble sized tamarind ball through one slit and again cover the lid.keep on turning the brinjal till it gets cooked on all sides. this might take 25 to 35 minutes.once cooked, it will turn brown and will release water. let the brinjal remain covered until it cools down.after cooling, peel the brinjal and discard the peel. mash the pulp and mix it with finely chopped onions and green chillies in a bowl.add grated coconut, tamarind paste, salt to taste and mix everything well. once done, add finely chopped coriander leaves, mix well and it is ready to be served.serve goan brinjal bharta recipe along with steamed rice, goan moolyacho ross and amlechi uddamethi recipe for a comforting and delicious lunch.   \n",
       "\n",
       "                                                                                                                                                                                                                                                                                                                                                                                                                                                                                                                                                                                                                                                                                                                                                                                                                                                                                                                                                                                                                                                                                                                                                                                                                                                                                                                                                                                                                                                                                                                                                                                                                                                                                                                                                                                                                                                                                                                                                                                                                                                                                                                                text  \n",
       "39                                                                                                                                                                                                                                                                                                                                                                                                                                                                                                                                                                                                                                                                                                                                                                                                                                            1 eggplant, 2 inch ginger - peel and tighten, 1 onion - finely chopped, 1 tomato - chopped, 2 green chillies - finely chopped, 1 teaspoon turmeric powder, 1 teaspoon garam masala powder, 1 teaspoon coriander powder , 1 tablespoon butter, 1 teaspoon red chili powder, salt - as per taste, 1 tablespoon oil, 2 sprigs of coriander - finely chopped (for garnish) to start the brinjal bharta, first turn on the gas. place the brinjals on the heat and roast them all the way around. after 10 minutes you will see that the brinjal skin has started coming out. bake the eggplants and keep them aside till they become soft. after cooling, take out the skin of the brinjals and mash them with the help of a fork. keep it aside. now heat a pan. add cumin seeds and let it cook for 10 seconds. after 10 seconds, add ginger, onion and cook till the onion becomes soft. now add tomato, turmeric powder, green chilli, coriander powder, garam masala powder and red chili powder. mix all and let it cook for 3 minutes to 4 minutes. now add eggplant, butter and salt. mix, slow down the heat and let it cook for 10 minutes. turn off the gas and garnish with green coriander. serve the brinjal bharta with panchamel dal, spinach raita and phulka for dinner.  \n",
       "208  1 cup bajra flour ( pearl millet),1/2 cup whole wheat flour,1/2 teaspoon turmeric powder (haldi),1/2 teaspoon black pepper powder,1 inch ginger - grated,1 green chilli - finely chopped,4 sprig coriander (dhania) leaves - finely chopped,sunflower oil - as required to begin making the gehu bajra thepla recipe, combine the bajra flour, whole wheat flour, turmeric powder, black pepper powder, ginger, green chilli, and coriander leaves, in a large mixing bowl. add little water at a time and knead to make a smooth and firm dough. drizzle some oil on the top and knead for a few more minutes until smooth. cover the thepla dough and allow it to rest for half an hour.preheat the iron skillet on medium heat. divide the dough into 6 to 8 portions.roll the thepla portions into balls; flatten them with the palm of your hand. toss the thepla dough on flour and roll them out into thin circles to approximately 6 inches in diameter.as you roll them out, you can keep tossing the dough in dry flour to prevent sticking when rolling them out.continue the same process of rolling the thepla dough out with the remaining balls. it is ideal when you can roll out the all portions of dough before you can start cooking them. method of cooking the gehu bajra theplawith skillet on high heat, place the rolled out gehu bajra thepla on the skillet. after a few seconds you will notice small air pockets popping out.at this point flip the gehu bajra thepla and smear about half a teaspoon of oil and using a flat spatula and do a light pressing and turning motion to cook to the thepla.flip to the other side and press and turn in a similar way. you will notice brown spots around the cooked gehu bajra thepla. remove from heat and place the thepla on a flat plate. continue the similar process with the remaining rolled out portions and stack the cooked gehu bajra thepla one above the other. stacking them maintains softness and prevents the thepla’s from drying out, preserving moisture.serve the gehu bajra thepla with bangain bharta and jaggery for dinner.  \n",
       "540                                                                                                                                                                                                                                                                                                                                                                                                                                                                                                                                                                                                                                                                                                                                                                                                                                                                                                                                                                                                                                                                                                                                                                                                                                                              4 potatoes (aloo) - peeled,1 teaspoon mustard seeds,1 sprig curry leaves,3 dry red chillies - seeds removed and torn,1 onion - chopped,1 green chilli - chopped,salt - to taste to begin making the odisha style aloo bharta recipe, pressure cook the potatoes with water and salt for about 4 whistles until it is done.allow the pressure to release naturally and mash it using a potato masher.heat a kadai with oil, add mustard seeds and allow it to splutter. add onions and saute until they turn translucent.now add dry red chillies and green chillies and stir for few seconds. add the mashed potato and sprinkle salt and mix well. once done switch off the heat and serve the aloo bharta hot. serve the odisha style aloo bharta recipe along with puri recipe (puffed fried indian bread) and sagu by the side to enjoy your morning breakfast.  \n",
       "622                                                                                                                                                                                                                                                                                                                                                                                                         1 cup black urad dal (split),1 tablespoon rajma (large kidney beans),4 tomatoes,1 inch ginger,1 tablespoon ghee,1 teaspoon cumin seeds (jeera),1 teaspoon kashmiri dry red chillies,1 tablespoon coriander powder (dhania),1/2 teaspoon garam masala powder to begin making maa ki dal recipe, first wash the dal and rajma well about 2-3 times and then soak them together in water for at least 8 hours or overnight.the longer you soak the better it is for the texture of the dal. traditionally, the dals are soaked for 24 hours, changing water every 8 hours.when you are ready to prepare the dal, after sufficient soaking time, take a heavy bottom pan (or a slow cooker) and bring 5 cups of water with a dash of salt, to boil in it.add the pre soaked dal and rajma to it and let it simmer till it cooks and turns a little soft. this could take anywhere between 2-3 hours as the dal gets it flavours from the slow cooking process. however, if you are in a hurry you can use the pressure cooker to hasten the process.next, add the tomato and ginger to the dal. once the dal is cooked, mash the dal and tomatoes a little bit. take care not to make it mushy, but just achieve a thick consistency. cook the dal for more 3 to 4 minutes.in a small pan, warm some ghee, add the cumin seeds and sauté till they turn slightly brown. add dry red chillies, coriander powder, garam masala powder and roast on a low heat for 1 minute taking care not to burn them.pour this tempering over the the dal and bring it to a boil. simmer it for another 10-15 minutes and serve hot.maa ki dal can be served with baingan ka bharta, boondi raita and phulka for a comforting punjabi meal.  \n",
       "822                                                                                                                                                                                                                                                                                                                                                                                                                                                                                                                                                                                                                                                                 1 brinjal (baingan / eggplant),2 onions - finely chopped,2 green chillies - chopped,1/2 cup coriander (dhania) leaves - finely chopped,1 tablespoon tamarind paste,2 tablespoon fresh coconut - grated,1 tamarind - marble sized ball,salt - to taste,1 tablespoon sunflower oil to begin making the goan style brinjal bharta recipe, clean the brinjal and make 4 to 5 slits keeping the brinjal intact.heat oil in a heavy bottomed pan. switch off the pan and apply this oil to the brinjal. once done, put the brinjal in the same pan and cover it with a lid.after 2 minutes, open the lid and turn the brinjal carefully to the other side. once it is slightly cooked from the other side, carefully insert the marble sized tamarind ball through one slit and again cover the lid.keep on turning the brinjal till it gets cooked on all sides. this might take 25 to 35 minutes.once cooked, it will turn brown and will release water. let the brinjal remain covered until it cools down.after cooling, peel the brinjal and discard the peel. mash the pulp and mix it with finely chopped onions and green chillies in a bowl.add grated coconut, tamarind paste, salt to taste and mix everything well. once done, add finely chopped coriander leaves, mix well and it is ready to be served.serve goan brinjal bharta recipe along with steamed rice, goan moolyacho ross and amlechi uddamethi recipe for a comforting and delicious lunch.  "
      ]
     },
     "execution_count": 17,
     "metadata": {},
     "output_type": "execute_result"
    }
   ],
   "source": [
    "df[similarity_scores>0].head()"
   ]
  },
  {
   "cell_type": "code",
   "execution_count": 5,
   "metadata": {},
   "outputs": [
    {
     "data": {
      "text/plain": [
       "1210                                                                                                                                                                                                                                                                                                                                                                                                                                                                                                                                                                                                                                                                                                                                                                                                                                                                                                                                                                                                                                                                                                                                                                                                                                                                                     to begin making the buttered potato cubes recipe, take the washed potato and pressure cook it with a cup of water for 3-4 whistles and turn off the heat. allow the pressure to release naturally. take out the cooked potato, allow it to cool and then remove the skin.dice them into bite size cubes and keep aside.in a pan, add a teaspoon of butter and allow it to melt. once the butter has melted, make sure the flame is on low and add the diced potatoes to the pan. sprinkle a pinch of salt and saute the potato cubes for a few minutes until the butter has coated on well.turn off the flame and transfer the finger food for babies to a baby bowl. sprinkle some cumin powder and black pepper powder for the babys' butter potato fingers (optional)serve these buttered potato cubes as finger food to your baby from 10 months onwards as finger foods/snack or even when travelling as they make for a perfect snack.\n",
       "4845    to begin making the potato spinach roulade recipe, first boil the potatoes in water or a pressure cooker until well done. peel the skin of the potatoes and allow it to cool. once the potatoes have cooled, place it in a large mixing bowl and mash the potatoes with your hands or a potato masher. add salt, flour, cheese and eggs and mix all the ingredients into the potato until it forms a smooth dough like consistency. if it does not, add a little flour and allow it to form a dough.prepare a baking sheet and spread a cheese cloth over the baking sheet. spread the potato mixture over the cheese cloth to form a long rectangle. the potato will be about a 1/2 an inch thick. keep this aside while we prepare the filling for the roulade.in a large wok, heat a teaspoon of oil over high heat. add the spinach and basil and cook until the spinach has wilted down and all the moisture is evaporated. once evaporated, allow the spinach to cool completely. add the feta, salt and chili powder and check the taste. the filling is now ready.spread the spinach mixture over the rolled out potato leaving a 1/2-inch on the edges. the next step is to make it into a roll.with the short side of the rectangle, using the cheesecloth as a support, roll the potato along with the filling to make a pinwheel like roll. once rolled, wrap the potato in the cheesecloth and tie the ends of the roll with a string.the final step is to steam the potato roulade or boil it in water. you can cut the roulade into half and place it in a steamer. if you are using the steamer or plan to boil it in water along with the cheese cloth, steam/boil the roulade for at least 30 to 40 minutes on medium heat. once done, transfer the roll to a serving platter and allow it to rest for 10-12 minutes before you can open the cheese cloth. after 10 minutes, remove the cheesecloth and cut the potato spinach roulade into slices. serve it by drizzling with herbed butter sauce. melt the herbed butter and pour it over the roulade.serve potato spinach roulade recipe with parmesan cheese & herbed butter sauce for breakfast or even a weeknight dinner along with a glass of wine.\n",
       "2568                                                                                                                                                                                                                                                                                                                                                                                                                                                                                                                                                                                                                                                                                                                                                                                                                                                                                                                                                                                                                                                                                                                                                                                                                                                                                                                                                                                                                                        to begin making creamy garlic mashed potatoes, take a saucepan and add potato, water and salt. cook the same for about 20 minutes or till the potatoes become tender and soft.once it’s done, drain the water and take out the potato skins. mash the potato with hands or potato masher.empty the potato mixture in a mixing bowl and set it aside.heat butter in a pan and add garlic cloves. saute it till the garlic flavour is absorbed in butter. now discard the garlic and add more butter, milk and warm cream in the potato mixture. mix it properly.cook it for 2 more minutes and season it with more salt and pepper if required.serve creamy garlic mashed potatoes with smoked tofu and grilled vegetable salad. you can even serve it as breakfast, a side dish or a dip.\n",
       "4818                                                                                                                                                                                                                                                                                                                                                                                                                                                                                                                                                                                                                                                                                                                                                                                                                                                                                                                                                                                                                                                                                                                                                                                                                                                                                                                                                                                                                                                                                                                                                                                                                                                         to make baked chinese potato recipe, first wash the potato and cut it straight and thick. preheat the oven to 150 degrees celsius. till then add turmeric powder, onion, garlic, red chilli flax, salt, curry leaves, coconut in a pressure cooker and turn off the cooker. close after coming to 1 city. let the pressure drain automatically. now grease a baking tray. spread the potato mixture in it. pour some coconut oil on top. cook for 8 to 10 minutes. serve hot and hot. serve the baked chinese potato recipe with punchmel dal and cumin rice for dinner.\n",
       "3055                                                                                                                                                                                                                                                                                                                                                                                                                                                                                                                                                                                                                                                                                                                                                                                           to begin making the sweet potato and moong sprouts cutlet recipe, wash, peel and cook sweet potato until soft. follow how to cook root vegetables like potatoes using a pressure cookerin a large mixing bowl, mash the boiled sweet potato and let it cool down.cook sprouts with little water with a pinch of salt until tender.drain the water from the sprouts and pat dry with kitchen towel to remove excess moisture. add this to the mixing bowl with mashed potato.now add the remaining ingredients like the ground poha, coriander leaves, onions, mint leaves, green chillies, ginger, amchur powder, red chilli powder and salt to taste. mix until well combined. set this bowl aside for 20 to 30 minutes. this helps enhance the flavour of the tikki.after half an hour shape the mixture into tikkis or cutlets and keep aside.into a preheated pan add some oil and place the sweet potato and moong sprouts cutlet onto the pan. shallow fry on both sides till the sweet potato and moong sprouts cutlet are golden brown in colour. once done transfer the cutlets on to a plate with an oil absorbent paper to drain excess oil.to serve the sweet potato and moong sprouts cutlet , place them on a bed of purple cabbage with a sprinkle of chaat masala powder and a wedge of lemon.serve sweet potato and moong sprouts cutlet along with dhaniya pudina chutney and date tamarind chutney as an appetiser.\n",
       "Name: TranslatedInstructions, dtype: object"
      ]
     },
     "execution_count": 5,
     "metadata": {},
     "output_type": "execute_result"
    }
   ],
   "source": [
    "top_5_recipes"
   ]
  },
  {
   "cell_type": "code",
   "execution_count": 6,
   "metadata": {},
   "outputs": [],
   "source": [
    "# Preprocess the data\n",
    "df_recipe_name['TranslatedRecipeName'] = df_recipe_name['TranslatedRecipeName'].apply(lambda x: ' '.join(str(x).lower().split()))\n",
    "df_recipe_name['finalResult'] = df_recipe_name['finalResult'].apply(lambda x: ' '.join(x.lower().split()))\n",
    "\n",
    "\n",
    "# Convert each recipe's ingredients and instructions into a single string\n",
    "df_recipe_name['text'] = df_recipe_name['TranslatedRecipeName']+ ' ' + df_recipe_name['finalResult']\n",
    "\n",
    "# Tokenize each string\n",
    "vectorizer = CountVectorizer(stop_words='english')\n",
    "X = vectorizer.fit_transform(df_recipe_name['text'])\n",
    "\n",
    "# Compute the cosine similarity between the new list of ingredients and each recipe's list of ingredients\n",
    "new_recipe_name = ['baigan bharta']\n",
    "\n",
    "\n",
    "new_text = ' '.join(new_recipe_name)\n",
    "new_X = vectorizer.transform([new_text])\n",
    "similarity_scores = cosine_similarity(new_X, X)[0]\n",
    "\n",
    "# Rank the recipes based on their similarity score and select the top 5\n",
    "top_5_indices = similarity_scores.argsort()[::-1][:5]\n",
    "\n",
    "top_5_recipes = df_recipe_name.iloc[top_5_indices]['finalResult']"
   ]
  },
  {
   "cell_type": "code",
   "execution_count": 8,
   "metadata": {},
   "outputs": [],
   "source": [
    "documents = list(top_5_recipes)\n",
    "\n",
    "doc_title=[]\n",
    "for doc in documents:\n",
    "    doc = doc.split(\"<section>\")[0]\n",
    "    doc_title.append(doc)\n",
    "\n",
    "doc_title\n",
    "query=\"baigan bharta\""
   ]
  },
  {
   "cell_type": "code",
   "execution_count": 9,
   "metadata": {},
   "outputs": [
    {
     "name": "stdout",
     "output_type": "stream",
     "text": [
      "title: baingan bharta recipe - brinjal bharta recipe <section> ingredients: 1 eggplant <sep> 2 inch ginger - peel and tighten <sep> 1 onion - finely chopped <sep> 1 tomato - chopped <sep> 2 green chillies - finely chopped <sep> 1 teaspoon turmeric powder <sep> 1 teaspoon garam masala powder <sep> 1 teaspoon coriander powder <sep> 1 tablespoon butter <sep> 1 teaspoon red chili powder <sep> salt - as per taste <sep> 1 tablespoon oil <sep> 2 sprigs of coriander - finely chopped (for garnish) <section> directions: to start the brinjal bharta, first turn on the gas <sep> place the brinjals on the heat and roast them all the way around <sep> after 10 minutes you will see that the brinjal skin has started coming out <sep> bake the eggplants and keep them aside till they become soft <sep> after cooling, take out the skin of the brinjals and mash them with the help of a fork <sep> keep it aside <sep> now heat a pan <sep> add cumin seeds and let it cook for 10 seconds <sep> after 10 seconds, add ginger, onion and cook till the onion becomes soft <sep> now add tomato, turmeric powder, green chilli, coriander powder, garam masala powder and red chili powder <sep> mix all and let it cook for 3 minutes to 4 minutes <sep> now add eggplant, butter and salt <sep> mix, slow down the heat and let it cook for 10 minutes <sep> turn off the gas and garnish with green coriander <sep> serve the brinjal bharta with panchamel dal, spinach raita and phulka for dinner <sep>\n"
     ]
    }
   ],
   "source": [
    "import numpy as np\n",
    "\n",
    "\n",
    "# Create a CountVectorizer object\n",
    "vectorizer = TfidfVectorizer()\n",
    "\n",
    "# Fit the vectorizer on the query and the documents\n",
    "vectorizer.fit(doc_title + [query])\n",
    "\n",
    "# Transform the query and the documents into vectors\n",
    "query_vec = vectorizer.transform([query])\n",
    "doc_vecs = vectorizer.transform(doc_title)\n",
    "\n",
    "# Compute the cosine similarities between the query vector and the document vectors\n",
    "from sklearn.metrics.pairwise import cosine_similarity\n",
    "\n",
    "sims = cosine_similarity(query_vec, doc_vecs)\n",
    "\n",
    "\n",
    "# Get the index of the document with the highest similarity\n",
    "most_similar_index = np.argmax(sims)\n",
    "\n",
    "# Get the most similar document\n",
    "most_similar_doc = documents[most_similar_index]\n",
    "\n",
    "# Print the most similar document\n",
    "print(most_similar_doc)"
   ]
  }
 ],
 "metadata": {
  "kernelspec": {
   "display_name": "Python 3",
   "language": "python",
   "name": "python3"
  },
  "language_info": {
   "codemirror_mode": {
    "name": "ipython",
    "version": 3
   },
   "file_extension": ".py",
   "mimetype": "text/x-python",
   "name": "python",
   "nbconvert_exporter": "python",
   "pygments_lexer": "ipython3",
   "version": "3.10.6"
  },
  "orig_nbformat": 4
 },
 "nbformat": 4,
 "nbformat_minor": 2
}
