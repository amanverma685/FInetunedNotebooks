{
 "cells": [
  {
   "cell_type": "code",
   "execution_count": 64,
   "metadata": {},
   "outputs": [],
   "source": [
    "import pandas as pd\n",
    "from sklearn.feature_extraction.text import CountVectorizer\n",
    "from sklearn.metrics.pairwise import cosine_similarity\n",
    "pd.set_option('display.max_rows', None)\n",
    "pd.set_option('display.max_colwidth', None)\n",
    "from sklearn.feature_extraction.text import TfidfVectorizer\n",
    "\n"
   ]
  },
  {
   "cell_type": "code",
   "execution_count": 65,
   "metadata": {},
   "outputs": [],
   "source": [
    "df_preprocessed = pd.read_csv('./preprocessedDataV1.csv')\n",
    "\n",
    "df = df_preprocessed[['TranslatedIngredients', 'TranslatedInstructions']].copy()\n",
    "\n",
    "\n",
    "df_recipe_name = df_preprocessed[['TranslatedRecipeName', 'finalResult']].copy()\n"
   ]
  },
  {
   "cell_type": "code",
   "execution_count": 66,
   "metadata": {},
   "outputs": [],
   "source": [
    "\n",
    "# Preprocess the data\n",
    "df['TranslatedIngredients'] = df['TranslatedIngredients'].apply(lambda x: ' '.join(str(x).lower().split()))\n",
    "df['TranslatedInstructions'] = df['TranslatedInstructions'].apply(lambda x: ' '.join(x.lower().split()))\n",
    "\n",
    "# Convert each recipe's ingredients and instructions into a single string\n",
    "df['text'] = df['TranslatedIngredients'] + ' ' + df['TranslatedInstructions']\n",
    "\n",
    "# Tokenize each string\n",
    "vectorizer = CountVectorizer(stop_words='english')\n",
    "X = vectorizer.fit_transform(df['text'])\n",
    "\n",
    "# Compute the cosine similarity between the new list of ingredients and each recipe's list of ingredients\n",
    "new_ingredients = ['potato']\n",
    "\n",
    "new_text = ' '.join(new_ingredients)\n",
    "new_X = vectorizer.transform([new_text])\n",
    "similarity_scores = cosine_similarity(new_X, X)[0]\n",
    "\n",
    "# Rank the recipes based on their similarity score and select the top 5\n",
    "top_5_indices = similarity_scores.argsort()[::-1][:5]\n",
    "\n",
    "top_5_recipes = df.iloc[top_5_indices]['TranslatedInstructions']"
   ]
  },
  {
   "cell_type": "code",
   "execution_count": 67,
   "metadata": {},
   "outputs": [
    {
     "data": {
      "text/plain": [
       "1210                                                                                                                                                                                                                                                                                                                                                                                                                                                                                                                                                                                                                                                                                                                                                                                                                                                                                                                                                                                                                                                                                                                                                                                                                                                                                     to begin making the buttered potato cubes recipe, take the washed potato and pressure cook it with a cup of water for 3-4 whistles and turn off the heat. allow the pressure to release naturally. take out the cooked potato, allow it to cool and then remove the skin.dice them into bite size cubes and keep aside.in a pan, add a teaspoon of butter and allow it to melt. once the butter has melted, make sure the flame is on low and add the diced potatoes to the pan. sprinkle a pinch of salt and saute the potato cubes for a few minutes until the butter has coated on well.turn off the flame and transfer the finger food for babies to a baby bowl. sprinkle some cumin powder and black pepper powder for the babys' butter potato fingers (optional)serve these buttered potato cubes as finger food to your baby from 10 months onwards as finger foods/snack or even when travelling as they make for a perfect snack.\n",
       "4845    to begin making the potato spinach roulade recipe, first boil the potatoes in water or a pressure cooker until well done. peel the skin of the potatoes and allow it to cool. once the potatoes have cooled, place it in a large mixing bowl and mash the potatoes with your hands or a potato masher. add salt, flour, cheese and eggs and mix all the ingredients into the potato until it forms a smooth dough like consistency. if it does not, add a little flour and allow it to form a dough.prepare a baking sheet and spread a cheese cloth over the baking sheet. spread the potato mixture over the cheese cloth to form a long rectangle. the potato will be about a 1/2 an inch thick. keep this aside while we prepare the filling for the roulade.in a large wok, heat a teaspoon of oil over high heat. add the spinach and basil and cook until the spinach has wilted down and all the moisture is evaporated. once evaporated, allow the spinach to cool completely. add the feta, salt and chili powder and check the taste. the filling is now ready.spread the spinach mixture over the rolled out potato leaving a 1/2-inch on the edges. the next step is to make it into a roll.with the short side of the rectangle, using the cheesecloth as a support, roll the potato along with the filling to make a pinwheel like roll. once rolled, wrap the potato in the cheesecloth and tie the ends of the roll with a string.the final step is to steam the potato roulade or boil it in water. you can cut the roulade into half and place it in a steamer. if you are using the steamer or plan to boil it in water along with the cheese cloth, steam/boil the roulade for at least 30 to 40 minutes on medium heat. once done, transfer the roll to a serving platter and allow it to rest for 10-12 minutes before you can open the cheese cloth. after 10 minutes, remove the cheesecloth and cut the potato spinach roulade into slices. serve it by drizzling with herbed butter sauce. melt the herbed butter and pour it over the roulade.serve potato spinach roulade recipe with parmesan cheese & herbed butter sauce for breakfast or even a weeknight dinner along with a glass of wine.\n",
       "2568                                                                                                                                                                                                                                                                                                                                                                                                                                                                                                                                                                                                                                                                                                                                                                                                                                                                                                                                                                                                                                                                                                                                                                                                                                                                                                                                                                                                                                        to begin making creamy garlic mashed potatoes, take a saucepan and add potato, water and salt. cook the same for about 20 minutes or till the potatoes become tender and soft.once it’s done, drain the water and take out the potato skins. mash the potato with hands or potato masher.empty the potato mixture in a mixing bowl and set it aside.heat butter in a pan and add garlic cloves. saute it till the garlic flavour is absorbed in butter. now discard the garlic and add more butter, milk and warm cream in the potato mixture. mix it properly.cook it for 2 more minutes and season it with more salt and pepper if required.serve creamy garlic mashed potatoes with smoked tofu and grilled vegetable salad. you can even serve it as breakfast, a side dish or a dip.\n",
       "4818                                                                                                                                                                                                                                                                                                                                                                                                                                                                                                                                                                                                                                                                                                                                                                                                                                                                                                                                                                                                                                                                                                                                                                                                                                                                                                                                                                                                                                                                                                                                                                                                                                                         to make baked chinese potato recipe, first wash the potato and cut it straight and thick. preheat the oven to 150 degrees celsius. till then add turmeric powder, onion, garlic, red chilli flax, salt, curry leaves, coconut in a pressure cooker and turn off the cooker. close after coming to 1 city. let the pressure drain automatically. now grease a baking tray. spread the potato mixture in it. pour some coconut oil on top. cook for 8 to 10 minutes. serve hot and hot. serve the baked chinese potato recipe with punchmel dal and cumin rice for dinner.\n",
       "3055                                                                                                                                                                                                                                                                                                                                                                                                                                                                                                                                                                                                                                                                                                                                                                                           to begin making the sweet potato and moong sprouts cutlet recipe, wash, peel and cook sweet potato until soft. follow how to cook root vegetables like potatoes using a pressure cookerin a large mixing bowl, mash the boiled sweet potato and let it cool down.cook sprouts with little water with a pinch of salt until tender.drain the water from the sprouts and pat dry with kitchen towel to remove excess moisture. add this to the mixing bowl with mashed potato.now add the remaining ingredients like the ground poha, coriander leaves, onions, mint leaves, green chillies, ginger, amchur powder, red chilli powder and salt to taste. mix until well combined. set this bowl aside for 20 to 30 minutes. this helps enhance the flavour of the tikki.after half an hour shape the mixture into tikkis or cutlets and keep aside.into a preheated pan add some oil and place the sweet potato and moong sprouts cutlet onto the pan. shallow fry on both sides till the sweet potato and moong sprouts cutlet are golden brown in colour. once done transfer the cutlets on to a plate with an oil absorbent paper to drain excess oil.to serve the sweet potato and moong sprouts cutlet , place them on a bed of purple cabbage with a sprinkle of chaat masala powder and a wedge of lemon.serve sweet potato and moong sprouts cutlet along with dhaniya pudina chutney and date tamarind chutney as an appetiser.\n",
       "Name: TranslatedInstructions, dtype: object"
      ]
     },
     "execution_count": 67,
     "metadata": {},
     "output_type": "execute_result"
    }
   ],
   "source": [
    "top_5_recipes"
   ]
  },
  {
   "cell_type": "code",
   "execution_count": 68,
   "metadata": {},
   "outputs": [],
   "source": [
    "# Preprocess the data\n",
    "df_recipe_name['TranslatedRecipeName'] = df_recipe_name['TranslatedRecipeName'].apply(lambda x: ' '.join(str(x).lower().split()))\n",
    "df_recipe_name['finalResult'] = df_recipe_name['finalResult'].apply(lambda x: ' '.join(x.lower().split()))\n",
    "\n",
    "\n",
    "# Convert each recipe's ingredients and instructions into a single string\n",
    "df_recipe_name['text'] = df_recipe_name['TranslatedRecipeName']+ ' ' + df_recipe_name['finalResult']\n",
    "\n",
    "# Tokenize each string\n",
    "vectorizer = CountVectorizer(stop_words='english')\n",
    "X = vectorizer.fit_transform(df_recipe_name['text'])\n",
    "\n",
    "# Compute the cosine similarity between the new list of ingredients and each recipe's list of ingredients\n",
    "new_recipe_name = ['baigan bharta']\n",
    "\n",
    "\n",
    "new_text = ' '.join(new_recipe_name)\n",
    "new_X = vectorizer.transform([new_text])\n",
    "similarity_scores = cosine_similarity(new_X, X)[0]\n",
    "\n",
    "# Rank the recipes based on their similarity score and select the top 5\n",
    "top_5_indices = similarity_scores.argsort()[::-1][:5]\n",
    "\n",
    "top_5_recipes = df_recipe_name.iloc[top_5_indices]['finalResult']"
   ]
  },
  {
   "cell_type": "code",
   "execution_count": 69,
   "metadata": {},
   "outputs": [],
   "source": [
    "documents = list(top_5_recipes)\n",
    "\n",
    "doc_title=[]\n",
    "for doc in documents:\n",
    "    doc = doc.split(\"<section>\")[0]\n",
    "    doc_title.append(doc)\n",
    "\n",
    "doc_title\n",
    "query=\"baigan bharta\""
   ]
  },
  {
   "cell_type": "code",
   "execution_count": 70,
   "metadata": {},
   "outputs": [
    {
     "name": "stdout",
     "output_type": "stream",
     "text": [
      "title: baingan bharta recipe - brinjal bharta recipe <section> ingredients: 1 eggplant <sep> 2 inch ginger - peel and tighten <sep> 1 onion - finely chopped <sep> 1 tomato - chopped <sep> 2 green chillies - finely chopped <sep> 1 teaspoon turmeric powder <sep> 1 teaspoon garam masala powder <sep> 1 teaspoon coriander powder <sep> 1 tablespoon butter <sep> 1 teaspoon red chili powder <sep> salt - as per taste <sep> 1 tablespoon oil <sep> 2 sprigs of coriander - finely chopped (for garnish) <section> directions: to start the brinjal bharta, first turn on the gas <sep> place the brinjals on the heat and roast them all the way around <sep> after 10 minutes you will see that the brinjal skin has started coming out <sep> bake the eggplants and keep them aside till they become soft <sep> after cooling, take out the skin of the brinjals and mash them with the help of a fork <sep> keep it aside <sep> now heat a pan <sep> add cumin seeds and let it cook for 10 seconds <sep> after 10 seconds, add ginger, onion and cook till the onion becomes soft <sep> now add tomato, turmeric powder, green chilli, coriander powder, garam masala powder and red chili powder <sep> mix all and let it cook for 3 minutes to 4 minutes <sep> now add eggplant, butter and salt <sep> mix, slow down the heat and let it cook for 10 minutes <sep> turn off the gas and garnish with green coriander <sep> serve the brinjal bharta with panchamel dal, spinach raita and phulka for dinner <sep>\n"
     ]
    }
   ],
   "source": [
    "import numpy as np\n",
    "\n",
    "\n",
    "# Create a CountVectorizer object\n",
    "vectorizer = TfidfVectorizer()\n",
    "\n",
    "# Fit the vectorizer on the query and the documents\n",
    "vectorizer.fit(doc_title + [query])\n",
    "\n",
    "# Transform the query and the documents into vectors\n",
    "query_vec = vectorizer.transform([query])\n",
    "doc_vecs = vectorizer.transform(doc_title)\n",
    "\n",
    "# Compute the cosine similarities between the query vector and the document vectors\n",
    "from sklearn.metrics.pairwise import cosine_similarity\n",
    "\n",
    "sims = cosine_similarity(query_vec, doc_vecs)\n",
    "\n",
    "\n",
    "# Get the index of the document with the highest similarity\n",
    "most_similar_index = np.argmax(sims)\n",
    "\n",
    "# Get the most similar document\n",
    "most_similar_doc = documents[most_similar_index]\n",
    "\n",
    "# Print the most similar document\n",
    "print(most_similar_doc)"
   ]
  }
 ],
 "metadata": {
  "kernelspec": {
   "display_name": "Python 3",
   "language": "python",
   "name": "python3"
  },
  "language_info": {
   "codemirror_mode": {
    "name": "ipython",
    "version": 3
   },
   "file_extension": ".py",
   "mimetype": "text/x-python",
   "name": "python",
   "nbconvert_exporter": "python",
   "pygments_lexer": "ipython3",
   "version": "3.10.6"
  },
  "orig_nbformat": 4
 },
 "nbformat": 4,
 "nbformat_minor": 2
}
